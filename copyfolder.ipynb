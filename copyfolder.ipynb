{
  "nbformat": 4,
  "nbformat_minor": 0,
  "metadata": {
    "colab": {
      "provenance": [],
      "authorship_tag": "ABX9TyO3x4kBQbrNHXNNJLV/NOpU",
      "include_colab_link": true
    },
    "kernelspec": {
      "name": "python3",
      "display_name": "Python 3"
    },
    "language_info": {
      "name": "python"
    }
  },
  "cells": [
    {
      "cell_type": "markdown",
      "metadata": {
        "id": "view-in-github",
        "colab_type": "text"
      },
      "source": [
        "<a href=\"https://colab.research.google.com/github/FirmanAhmadBayumi/Computer-Vision/blob/main/copyfolder.ipynb\" target=\"_parent\"><img src=\"https://colab.research.google.com/assets/colab-badge.svg\" alt=\"Open In Colab\"/></a>"
      ]
    },
    {
      "cell_type": "code",
      "execution_count": 11,
      "metadata": {
        "id": "Z1LTZPQCtV_2"
      },
      "outputs": [],
      "source": [
        "from google.colab import drive\n",
        "import os\n",
        "import shutil\n",
        "import random"
      ]
    },
    {
      "cell_type": "code",
      "source": [
        "# Mount Google Drive\n",
        "drive.mount('/content/drive')"
      ],
      "metadata": {
        "colab": {
          "base_uri": "https://localhost:8080/"
        },
        "id": "CDHAOZmitbnJ",
        "outputId": "88c72fb6-b333-4695-faf2-43d1460a9152"
      },
      "execution_count": 20,
      "outputs": [
        {
          "output_type": "stream",
          "name": "stdout",
          "text": [
            "Drive already mounted at /content/drive; to attempt to forcibly remount, call drive.mount(\"/content/drive\", force_remount=True).\n"
          ]
        }
      ]
    },
    {
      "cell_type": "code",
      "source": [
        "def copy_folder(source, destination):\n",
        "    try:\n",
        "        # Cek apakah folder tujuan sudah ada\n",
        "        if os.path.exists(destination):\n",
        "            print(f\"Folder tujuan '{destination}' sudah ada.\")\n",
        "        else:\n",
        "            shutil.copytree(source, destination)\n",
        "            print(f\"Folder '{source}' berhasil disalin ke '{destination}'\")\n",
        "    except Exception as e:\n",
        "        print(f\"Error: {e}\")\n",
        "\n",
        "# Path sumber dan tujuan\n",
        "source_folder  = '/content/drive/MyDrive/Computer_Vision/dataset_cv'\n",
        "destination_folder = '/content/drive/MyDrive/Computer_Vision/dataset_butterfly'"
      ],
      "metadata": {
        "id": "gtvefwSKtc8y"
      },
      "execution_count": 21,
      "outputs": []
    },
    {
      "cell_type": "code",
      "source": [
        "# Salin folder\n",
        "copy_folder(source_folder, destination_folder)"
      ],
      "metadata": {
        "colab": {
          "base_uri": "https://localhost:8080/"
        },
        "id": "mwGlvdlivEae",
        "outputId": "89ef19b3-d2f2-47e3-b066-cdc4624970ca"
      },
      "execution_count": 22,
      "outputs": [
        {
          "output_type": "stream",
          "name": "stdout",
          "text": [
            "Folder '/content/drive/MyDrive/Computer_Vision/dataset_cv' berhasil disalin ke '/content/drive/MyDrive/Computer_Vision/dataset_butterfly'\n"
          ]
        }
      ]
    },
    {
      "cell_type": "code",
      "source": [
        "def split_dataset(source_folder, destination_folder, train_ratio=0.7, test_ratio=0.2, val_ratio=0.1):\n",
        "\n",
        "\n",
        "    # Buat folder train, test, dan validation\n",
        "    os.makedirs(os.path.join(destination_folder, 'train'))\n",
        "    os.makedirs(os.path.join(destination_folder, 'test'))\n",
        "    os.makedirs(os.path.join(destination_folder, 'validation'))\n",
        "\n",
        "    # List nama folder di dalam source folder\n",
        "    folders = os.listdir(source_folder)\n",
        "\n",
        "    for folder in folders:\n",
        "        # Path ke folder di dalam source folder\n",
        "        folder_path = os.path.join(source_folder, folder)\n",
        "\n",
        "        # Ambil daftar file di dalam folder\n",
        "        files = os.listdir(folder_path)\n",
        "\n",
        "        # Hitung jumlah file untuk masing-masing subset\n",
        "        num_files = len(files)\n",
        "        num_train = int(num_files * train_ratio)\n",
        "        num_test = int(num_files * test_ratio)\n",
        "        num_val = int(num_files * val_ratio)\n",
        "\n",
        "        # Acak urutan file\n",
        "        random.shuffle(files)\n",
        "\n",
        "        # Bagi file menjadi subset train, test, dan validation\n",
        "        train_files = files[:num_train]\n",
        "        test_files = files[num_train:num_train + num_test]\n",
        "        val_files = files[num_train + num_test:]\n",
        "\n",
        "        # Salin file ke dalam subset train\n",
        "        for file in train_files:\n",
        "            source_file = os.path.join(folder_path, file)\n",
        "            dest_file = os.path.join(destination_folder, 'train', folder)\n",
        "            os.makedirs(dest_file, exist_ok=True)\n",
        "            dest_file = os.path.join(dest_file, file)\n",
        "            shutil.copy(source_file, dest_file)\n",
        "\n",
        "        # Salin file ke dalam subset test\n",
        "        for file in test_files:\n",
        "            source_file = os.path.join(folder_path, file)\n",
        "            dest_file = os.path.join(destination_folder, 'test', folder)\n",
        "            os.makedirs(dest_file, exist_ok=True)\n",
        "            dest_file = os.path.join(dest_file, file)\n",
        "            shutil.copy(source_file, dest_file)\n",
        "\n",
        "        # Salin file ke dalam subset validation\n",
        "        for file in val_files:\n",
        "            source_file = os.path.join(folder_path, file)\n",
        "            dest_file = os.path.join(destination_folder, 'validation', folder)\n",
        "            os.makedirs(dest_file, exist_ok=True)\n",
        "            dest_file = os.path.join(dest_file, file)\n",
        "            shutil.copy(source_file, dest_file)\n",
        "\n",
        "    print(\"Pembagian dataset berhasil.\")"
      ],
      "metadata": {
        "id": "m_UhFH6VvHRA"
      },
      "execution_count": 29,
      "outputs": []
    },
    {
      "cell_type": "code",
      "source": [
        "destination_folder = '/content/drive/MyDrive/Computer_Vision/dataset_butterfly'"
      ],
      "metadata": {
        "id": "HJzavqqqvJzl"
      },
      "execution_count": 30,
      "outputs": []
    },
    {
      "cell_type": "code",
      "source": [
        "# Bagi dataset menjadi subset train, test, dan validation\n",
        "split_dataset(source_folder, destination_folder, train_ratio=0.7, test_ratio=0.2, val_ratio=0.1)"
      ],
      "metadata": {
        "colab": {
          "base_uri": "https://localhost:8080/"
        },
        "id": "3lz0v50lvLYZ",
        "outputId": "77f3df71-cd59-4ef5-f575-7a88d8ab1e96"
      },
      "execution_count": 31,
      "outputs": [
        {
          "output_type": "stream",
          "name": "stdout",
          "text": [
            "Pembagian dataset berhasil.\n"
          ]
        }
      ]
    }
  ]
}